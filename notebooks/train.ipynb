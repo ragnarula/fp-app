{
 "cells": [
  {
   "cell_type": "code",
   "execution_count": 22,
   "metadata": {
    "collapsed": false
   },
   "outputs": [],
   "source": [
    "import pandas as pd\n",
    "import numpy as np\n",
    "from sklearn.decomposition import pca\n",
    "from sklearn.model_selection import cross_val_score\n",
    "from sklearn.model_selection import cross_val_predict\n",
    "from sklearn import metrics\n",
    "norm_data = pd.read_csv(\"../csv/expanded_dataset_norm_v1.csv\")\n",
    "data = norm_data.drop(['Class'], axis=1)\n",
    "target = norm_data['Class']"
   ]
  },
  {
   "cell_type": "code",
   "execution_count": 23,
   "metadata": {
    "collapsed": false,
    "scrolled": true
   },
   "outputs": [
    {
     "name": "stdout",
     "output_type": "stream",
     "text": [
      "0.845401174168\n"
     ]
    },
    {
     "data": {
      "text/plain": [
       "array([[461,  76,  29],\n",
       "       [ 44, 215,   0],\n",
       "       [  9,   0, 188]])"
      ]
     },
     "execution_count": 23,
     "metadata": {},
     "output_type": "execute_result"
    }
   ],
   "source": [
    "# svm normalized data\n",
    "from sklearn import svm\n",
    "rbf_svc = svm.SVC(kernel='rbf', C = 2 ** 13, gamma=(2 ** -12))\n",
    "predicted = cross_val_predict(rbf_svc, data, target, cv=10, n_jobs=-1)\n",
    "print metrics.accuracy_score(target, predicted)\n",
    "metrics.confusion_matrix(target, predicted, labels=[\"normal\", \"flooding\", \"slowloris\"])"
   ]
  },
  {
   "cell_type": "code",
   "execution_count": 24,
   "metadata": {
    "collapsed": false
   },
   "outputs": [
    {
     "name": "stdout",
     "output_type": "stream",
     "text": [
      "0.791585127202\n"
     ]
    },
    {
     "data": {
      "text/plain": [
       "array([[496,  70,   0],\n",
       "       [118, 141,   0],\n",
       "       [ 20,   5, 172]])"
      ]
     },
     "execution_count": 24,
     "metadata": {},
     "output_type": "execute_result"
    }
   ],
   "source": [
    "#ANN normalized data\n",
    "from sklearn.neural_network import MLPClassifier\n",
    "mlp = MLPClassifier(solver='lbfgs', max_iter=1000, activation='logistic', alpha=1e-5, hidden_layer_sizes=(5), random_state=7)\n",
    "predicted = cross_val_predict(mlp, data, target, cv=10)\n",
    "print metrics.accuracy_score(target, predicted)\n",
    "metrics.confusion_matrix(target, predicted, labels=[\"normal\", \"flooding\", \"slowloris\"])"
   ]
  },
  {
   "cell_type": "code",
   "execution_count": 25,
   "metadata": {
    "collapsed": false
   },
   "outputs": [
    {
     "name": "stdout",
     "output_type": "stream",
     "text": [
      "0.839530332681\n"
     ]
    },
    {
     "data": {
      "text/plain": [
       "array([[448,  89,  29],\n",
       "       [ 44, 215,   0],\n",
       "       [  2,   0, 195]])"
      ]
     },
     "execution_count": 25,
     "metadata": {},
     "output_type": "execute_result"
    }
   ],
   "source": [
    "#random forest normalized data\n",
    "from sklearn.ensemble import RandomForestClassifier\n",
    "rfc = RandomForestClassifier(n_estimators=10)\n",
    "predicted = cross_val_predict(rfc, data, target, cv=10)\n",
    "print metrics.accuracy_score(target, predicted)\n",
    "metrics.confusion_matrix(target, predicted, labels=[\"normal\", \"flooding\", \"slowloris\"])"
   ]
  },
  {
   "cell_type": "code",
   "execution_count": 26,
   "metadata": {
    "collapsed": false
   },
   "outputs": [],
   "source": [
    "pcaa = pca.PCA(5, copy=True, whiten=True)\n",
    "pca_data = pcaa.fit(data).transform(data)"
   ]
  },
  {
   "cell_type": "code",
   "execution_count": 27,
   "metadata": {
    "collapsed": false
   },
   "outputs": [
    {
     "name": "stdout",
     "output_type": "stream",
     "text": [
      "0.83072407045\n"
     ]
    },
    {
     "data": {
      "text/plain": [
       "array([[470,  87,   9],\n",
       "       [ 74, 185,   0],\n",
       "       [  3,   0, 194]])"
      ]
     },
     "execution_count": 27,
     "metadata": {},
     "output_type": "execute_result"
    }
   ],
   "source": [
    "#svm pca data\n",
    "from sklearn import svm\n",
    "rbf_svc = svm.SVC(kernel='rbf', C = 2 ** 9, gamma=2 ** -4)\n",
    "predicted = cross_val_predict(rbf_svc, pca_data, target, cv=10)\n",
    "print metrics.accuracy_score(target, predicted)\n",
    "metrics.confusion_matrix(target, predicted, labels=[\"normal\", \"flooding\", \"slowloris\"])\n"
   ]
  },
  {
   "cell_type": "code",
   "execution_count": 28,
   "metadata": {
    "collapsed": false
   },
   "outputs": [
    {
     "name": "stdout",
     "output_type": "stream",
     "text": [
      "0.795499021526\n"
     ]
    },
    {
     "data": {
      "text/plain": [
       "array([[456, 107,   3],\n",
       "       [ 98, 161,   0],\n",
       "       [  1,   0, 196]])"
      ]
     },
     "execution_count": 28,
     "metadata": {},
     "output_type": "execute_result"
    }
   ],
   "source": [
    "from sklearn.neural_network import MLPClassifier\n",
    "mlp = MLPClassifier(solver='lbfgs', max_iter=1000, activation='logistic', alpha=1e-5, hidden_layer_sizes=(3,))\n",
    "predicted = cross_val_predict(mlp, pca_data, target, cv=10)\n",
    "metrics.accuracy_score(target, predicted)\n",
    "print metrics.accuracy_score(target, predicted)\n",
    "metrics.confusion_matrix(target, predicted, labels=[\"normal\", \"flooding\", \"slowloris\"])"
   ]
  },
  {
   "cell_type": "code",
   "execution_count": 29,
   "metadata": {
    "collapsed": false
   },
   "outputs": [
    {
     "name": "stdout",
     "output_type": "stream",
     "text": [
      "0.785714285714\n"
     ]
    },
    {
     "data": {
      "text/plain": [
       "array([[413, 125,  28],\n",
       "       [ 56, 203,   0],\n",
       "       [ 10,   0, 187]])"
      ]
     },
     "execution_count": 29,
     "metadata": {},
     "output_type": "execute_result"
    }
   ],
   "source": [
    "from sklearn.ensemble import RandomForestClassifier\n",
    "rfc = RandomForestClassifier(n_estimators=10)\n",
    "predicted = cross_val_predict(rfc, pca_data, target, cv=10)\n",
    "print metrics.accuracy_score(target, predicted)\n",
    "metrics.confusion_matrix(target, predicted, labels=[\"normal\", \"flooding\", \"slowloris\"])"
   ]
  },
  {
   "cell_type": "code",
   "execution_count": null,
   "metadata": {
    "collapsed": true
   },
   "outputs": [],
   "source": []
  }
 ],
 "metadata": {
  "kernelspec": {
   "display_name": "Python 2",
   "language": "python",
   "name": "python2"
  },
  "language_info": {
   "codemirror_mode": {
    "name": "ipython",
    "version": 2
   },
   "file_extension": ".py",
   "mimetype": "text/x-python",
   "name": "python",
   "nbconvert_exporter": "python",
   "pygments_lexer": "ipython2",
   "version": "2.7.12"
  }
 },
 "nbformat": 4,
 "nbformat_minor": 2
}

{
 "cells": [
  {
   "cell_type": "code",
   "execution_count": 85,
   "metadata": {
    "collapsed": false
   },
   "outputs": [],
   "source": [
    "import pandas as pd\n",
    "import numpy as np\n",
    "import itertools\n",
    "from sklearn import preprocessing, svm\n",
    "from sklearn.pipeline import Pipeline\n",
    "from sklearn.model_selection import GridSearchCV\n",
    "from sklearn.metrics import accuracy_score, precision_score, recall_score, roc_auc_score, f1_score, confusion_matrix\n",
    "import warnings\n",
    "warnings.filterwarnings(\"ignore\")\n",
    "from sklearn.utils import shuffle\n"
   ]
  },
  {
   "cell_type": "code",
   "execution_count": 86,
   "metadata": {
    "collapsed": false
   },
   "outputs": [],
   "source": [
    "params = [\n",
    "    {\n",
    "        'svm__kernel': ['rbf'],\n",
    "        'svm__gamma': [x ** y for x, y in zip([2] * 31, range(-15, 16, 1))],\n",
    "        'svm__C': [x ** y for x, y in zip([2] * 31, range(-15, 16, 1))]\n",
    "    }\n",
    "]\n",
    "\n",
    "params_test = [\n",
    "    {\n",
    "        'svm__kernel': ['rbf'],\n",
    "        'svm__gamma': [1],\n",
    "        'svm__C': [1]\n",
    "    }\n",
    "]\n",
    "\n",
    "pipe = Pipeline(steps=[('normalize', preprocessing.Normalizer()), ('svm', svm.SVC())])"
   ]
  },
  {
   "cell_type": "code",
   "execution_count": 3,
   "metadata": {
    "collapsed": false
   },
   "outputs": [],
   "source": [
    "rawdata = pd.read_csv(\"../csv/expanded_dataset_v1.csv\", encoding = 'utf8')"
   ]
  },
  {
   "cell_type": "code",
   "execution_count": 4,
   "metadata": {
    "collapsed": false
   },
   "outputs": [],
   "source": [
    "def search_train(data, N, c, pipe, params):\n",
    "    sample_size = int(c * len(data.index))\n",
    "    results = []\n",
    "    search = GridSearchCV(pipe, params, n_jobs=-1, verbose=1, scoring='f1_macro', cv=10)\n",
    "    for i in xrange(N):\n",
    "        print(\"Run {} of {} with {}% of data\".format(i+1, N, c))\n",
    "        rows = np.random.choice(data.index.values, sample_size)\n",
    "        \n",
    "        train = data.ix[rows]\n",
    "        test = data.ix[~data.index.isin(train.index)]\n",
    "        \n",
    "        indexes = train.axes[0]\n",
    "        X = train.drop(['Class'], axis=1)\n",
    "        Y = train['Class']\n",
    "        classifier = search.fit(X, Y)\n",
    "        \n",
    "        x = test.drop(['Class'], axis=1)\n",
    "        y = test['Class']\n",
    "        \n",
    "        y_pred = classifier.predict(x)\n",
    "        \n",
    "        res = {\n",
    "            'indexes': indexes,\n",
    "            'classifier': classifier,\n",
    "            'y': y,\n",
    "            'y_pred': y_pred,\n",
    "            'N': N,\n",
    "            'c': c\n",
    "        }\n",
    "        results.append(res)\n",
    "    return results\n",
    "        "
   ]
  },
  {
   "cell_type": "code",
   "execution_count": 6,
   "metadata": {
    "collapsed": false,
    "scrolled": true
   },
   "outputs": [
    {
     "name": "stdout",
     "output_type": "stream",
     "text": [
      "Run 1 of 1 with 0.8% of data\n",
      "Fitting 10 folds for each of 961 candidates, totalling 9610 fits\n"
     ]
    },
    {
     "name": "stderr",
     "output_type": "stream",
     "text": [
      "[Parallel(n_jobs=-1)]: Done  88 tasks      | elapsed:    1.0s\n",
      "[Parallel(n_jobs=-1)]: Done 688 tasks      | elapsed:    6.4s\n",
      "[Parallel(n_jobs=-1)]: Done 1688 tasks      | elapsed:   15.8s\n",
      "[Parallel(n_jobs=-1)]: Done 3088 tasks      | elapsed:   28.5s\n",
      "[Parallel(n_jobs=-1)]: Done 4888 tasks      | elapsed:   44.8s\n",
      "[Parallel(n_jobs=-1)]: Done 7088 tasks      | elapsed:  1.1min\n",
      "[Parallel(n_jobs=-1)]: Done 9466 tasks      | elapsed:  1.5min\n",
      "[Parallel(n_jobs=-1)]: Done 9595 out of 9610 | elapsed:  1.6min remaining:    0.1s\n",
      "[Parallel(n_jobs=-1)]: Done 9610 out of 9610 | elapsed:  1.6min finished\n"
     ]
    }
   ],
   "source": [
    "res5 = search_train(rawdata, 1, 0.8, pipe, params)"
   ]
  },
  {
   "cell_type": "code",
   "execution_count": 7,
   "metadata": {
    "collapsed": false
   },
   "outputs": [],
   "source": [
    "def metric_from_result(res, metric_func, **kwargs):\n",
    "    return metric_func(res['y'], res['y_pred'], **kwargs)"
   ]
  },
  {
   "cell_type": "code",
   "execution_count": 8,
   "metadata": {
    "collapsed": false
   },
   "outputs": [
    {
     "data": {
      "text/plain": [
       "[0.86864406779661019]"
      ]
     },
     "execution_count": 8,
     "metadata": {},
     "output_type": "execute_result"
    }
   ],
   "source": [
    "[metric_from_result(x, accuracy_score) for x in res5]"
   ]
  },
  {
   "cell_type": "code",
   "execution_count": 9,
   "metadata": {
    "collapsed": false
   },
   "outputs": [
    {
     "data": {
      "text/plain": [
       "[0.85739599342310768]"
      ]
     },
     "execution_count": 9,
     "metadata": {},
     "output_type": "execute_result"
    }
   ],
   "source": [
    "[metric_from_result(x, f1_score, average='macro') for x in res5]"
   ]
  },
  {
   "cell_type": "code",
   "execution_count": 10,
   "metadata": {
    "collapsed": false
   },
   "outputs": [
    {
     "data": {
      "text/plain": [
       "[array([[ 97,  15,   0],\n",
       "        [ 16, 233,  15],\n",
       "        [  5,  11,  80]])]"
      ]
     },
     "execution_count": 10,
     "metadata": {},
     "output_type": "execute_result"
    }
   ],
   "source": [
    "[metric_from_result(x, confusion_matrix) for x in res5]"
   ]
  },
  {
   "cell_type": "code",
   "execution_count": 11,
   "metadata": {
    "collapsed": false
   },
   "outputs": [
    {
     "data": {
      "text/plain": [
       "{'svm__C': 8192, 'svm__gamma': 32, 'svm__kernel': 'rbf'}"
      ]
     },
     "execution_count": 11,
     "metadata": {},
     "output_type": "execute_result"
    }
   ],
   "source": [
    "res5[0]['classifier'].best_params_"
   ]
  },
  {
   "cell_type": "code",
   "execution_count": 95,
   "metadata": {
    "collapsed": false
   },
   "outputs": [],
   "source": [
    "def run_experiment(data, N, pipe, params):\n",
    "    cs = np.arange(0.1,0.2,0.1)\n",
    "    rows = []\n",
    "    for c in cs:\n",
    "        run_res = search_train(data, N, c, pipe, params)\n",
    "        for r in run_res:\n",
    "            cm = metric_from_result(r, confusion_matrix)\n",
    "            \n",
    "            r_dict = {\n",
    "                \"accuracy\": metric_from_result(r, accuracy_score),\n",
    "                \"f1\": metric_from_result(r, f1_score, average='macro'),\n",
    "                \"precision\": metric_from_result(r, precision_score, average='macro'),\n",
    "                \"recall\": metric_from_result(r, recall_score, average='macro'),\n",
    "                \"c\": c,\n",
    "                \"best_params\": str(r['classifier'].best_params_)\n",
    "            }\n",
    "            \n",
    "            for i in range(len(cm)):\n",
    "                for j in range(len(cm[0])):\n",
    "                    key = \"cm_{}{}\".format(i, j)\n",
    "                    value = cm[i][j]\n",
    "                    r_dict.update({key:value})\n",
    "                    \n",
    "            rows.append(r_dict)\n",
    "    return pd.DataFrame(rows)\n",
    "        "
   ]
  },
  {
   "cell_type": "code",
   "execution_count": 96,
   "metadata": {
    "collapsed": false
   },
   "outputs": [
    {
     "name": "stdout",
     "output_type": "stream",
     "text": [
      "Run 1 of 1 with 0.1% of data\n",
      "Fitting 10 folds for each of 1 candidates, totalling 10 fits\n"
     ]
    },
    {
     "name": "stderr",
     "output_type": "stream",
     "text": [
      "[Parallel(n_jobs=-1)]: Done   6 out of  10 | elapsed:    0.1s remaining:    0.0s\n",
      "[Parallel(n_jobs=-1)]: Done  10 out of  10 | elapsed:    0.1s finished\n"
     ]
    }
   ],
   "source": [
    "res = run_experiment(rawdata, 1, pipe, params_test)"
   ]
  },
  {
   "cell_type": "code",
   "execution_count": 97,
   "metadata": {
    "collapsed": false
   },
   "outputs": [
    {
     "data": {
      "text/html": [
       "<div>\n",
       "<table border=\"1\" class=\"dataframe\">\n",
       "  <thead>\n",
       "    <tr style=\"text-align: right;\">\n",
       "      <th></th>\n",
       "      <th>accuracy</th>\n",
       "      <th>best_params</th>\n",
       "      <th>c</th>\n",
       "      <th>cm_00</th>\n",
       "      <th>cm_01</th>\n",
       "      <th>cm_02</th>\n",
       "      <th>cm_10</th>\n",
       "      <th>cm_11</th>\n",
       "      <th>cm_12</th>\n",
       "      <th>cm_20</th>\n",
       "      <th>cm_21</th>\n",
       "      <th>cm_22</th>\n",
       "      <th>f1</th>\n",
       "      <th>precision</th>\n",
       "      <th>recall</th>\n",
       "    </tr>\n",
       "  </thead>\n",
       "  <tbody>\n",
       "    <tr>\n",
       "      <th>0</th>\n",
       "      <td>0.707212</td>\n",
       "      <td>{'svm__C': 1, 'svm__kernel': 'rbf', 'svm__gamm...</td>\n",
       "      <td>0.1</td>\n",
       "      <td>49</td>\n",
       "      <td>189</td>\n",
       "      <td>0</td>\n",
       "      <td>0</td>\n",
       "      <td>510</td>\n",
       "      <td>0</td>\n",
       "      <td>0</td>\n",
       "      <td>83</td>\n",
       "      <td>98</td>\n",
       "      <td>0.611149</td>\n",
       "      <td>0.884058</td>\n",
       "      <td>0.58244</td>\n",
       "    </tr>\n",
       "  </tbody>\n",
       "</table>\n",
       "</div>"
      ],
      "text/plain": [
       "   accuracy                                        best_params    c  cm_00  \\\n",
       "0  0.707212  {'svm__C': 1, 'svm__kernel': 'rbf', 'svm__gamm...  0.1     49   \n",
       "\n",
       "   cm_01  cm_02  cm_10  cm_11  cm_12  cm_20  cm_21  cm_22        f1  \\\n",
       "0    189      0      0    510      0      0     83     98  0.611149   \n",
       "\n",
       "   precision   recall  \n",
       "0   0.884058  0.58244  "
      ]
     },
     "execution_count": 97,
     "metadata": {},
     "output_type": "execute_result"
    }
   ],
   "source": [
    "res"
   ]
  },
  {
   "cell_type": "code",
   "execution_count": 78,
   "metadata": {
    "collapsed": false
   },
   "outputs": [
    {
     "data": {
      "text/plain": [
       "\"{'hello': 'there'}\""
      ]
     },
     "execution_count": 78,
     "metadata": {},
     "output_type": "execute_result"
    }
   ],
   "source": [
    "str({'hello': 'there'})"
   ]
  },
  {
   "cell_type": "code",
   "execution_count": null,
   "metadata": {
    "collapsed": true
   },
   "outputs": [],
   "source": []
  }
 ],
 "metadata": {
  "kernelspec": {
   "display_name": "Python 2",
   "language": "python",
   "name": "python2"
  },
  "language_info": {
   "codemirror_mode": {
    "name": "ipython",
    "version": 2
   },
   "file_extension": ".py",
   "mimetype": "text/x-python",
   "name": "python",
   "nbconvert_exporter": "python",
   "pygments_lexer": "ipython2",
   "version": "2.7.12"
  }
 },
 "nbformat": 4,
 "nbformat_minor": 2
}
